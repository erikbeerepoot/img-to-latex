{
 "cells": [
  {
   "cell_type": "code",
   "execution_count": 8,
   "metadata": {},
   "outputs": [],
   "source": [
    "import os\n",
    "\n",
    "### Make sure our data is in order\n",
    "data_base_dir = \"../data\"\n",
    "figs_base_dir = \"../figs\"\n",
    "\n",
    "original_data_path = data_base_dir + \"/original/formula/\"\n",
    "processed_data_path = data_base_dir + \"/processed/formula/\"\n",
    "pickle_data_path = data_base_dir + \"/pickle/formula/\"\n",
    "\n",
    "assert os.path.exists(original_data_path), \"Original data path does not exist.\""
   ]
  },
  {
   "cell_type": "code",
   "execution_count": 9,
   "metadata": {},
   "outputs": [
    {
     "name": "stdout",
     "output_type": "stream",
     "text": [
      "Found 76322 training labels.\n",
      "Found 76303 training matches.\n",
      "Found 9444 test labels.\n",
      "Found 9442 test matches.\n",
      "Found 8475 validation labels.\n",
      "Found 8474 validation matches.\n",
      "Kept 76303 training labels.\n",
      "Kept 9442 test labels.\n",
      "Kept 8474 validation labels.\n"
     ]
    }
   ],
   "source": [
    "import pandas as pd \n",
    "# formulas = pd.read_csv(f\"{processed_data_path}formulas.norm.lst\", sep='~!!!~~~', header=None)\n",
    "train_labels = pd.read_csv(f\"{processed_data_path}labels/train.formulas.norm.txt\", engine='python', sep='!!!!!!', header=None).values\n",
    "train_matches = pd.read_csv(f\"{processed_data_path}images/train/train.matching.txt\", sep=' ', header=None).values\n",
    "\n",
    "test_labels =  pd.read_csv(f\"{processed_data_path}labels/test.formulas.norm.txt\", engine='python', sep='!!!!!!', header=None).values\n",
    "test_matches = pd.read_csv(f\"{processed_data_path}images/test/test.matching.txt\", sep=' ', header=None).values\n",
    "\n",
    "validation_labels = pd.read_csv(f\"{processed_data_path}labels/val.formulas.norm.txt\",  engine='python', sep='!!!!!!', header=None).values\n",
    "validation_matches = pd.read_csv(f\"{processed_data_path}images/validate/val.matching.txt\", sep=' ', header=None).values\n",
    "\n",
    "print(f\"Found {len(train_labels)} training labels.\")\n",
    "print(f\"Found {len(train_matches)} training matches.\")\n",
    "\n",
    "print(f\"Found {len(test_labels)} test labels.\")\n",
    "print(f\"Found {len(test_matches)} test matches.\")\n",
    "\n",
    "print(f\"Found {len(validation_labels)} validation labels.\")\n",
    "print(f\"Found {len(validation_matches)} validation matches.\")\n",
    "\n",
    "# Get correct labels\n",
    "train_labels = train_labels[[list(map(lambda f: f[1], train_matches))][0]]\n",
    "test_labels = test_labels[[list(map(lambda f: f[1], test_matches))][0]]\n",
    "validation_labels = validation_labels[[list(map(lambda f: f[1], validation_matches))][0]]\n",
    "\n",
    "train_labels = [lbl[0] for lbl in train_labels]\n",
    "test_labels = [lbl[0] for lbl in test_labels]\n",
    "validation_labels = [lbl[0] for lbl in validation_labels]\n",
    "\n",
    "print(f\"Kept {len(train_labels)} training labels.\")\n",
    "print(f\"Kept {len(test_labels)} test labels.\")\n",
    "print(f\"Kept {len(validation_labels)} validation labels.\")"
   ]
  },
  {
   "cell_type": "code",
   "execution_count": 18,
   "metadata": {},
   "outputs": [],
   "source": [
    "import glob \n",
    "\n",
    "import operator\n",
    "import re\n",
    "import imageio\n",
    "\n",
    "def atoi(text):\n",
    "    return int(text) if text.isdigit() else text\n",
    "\n",
    "def natural_keys(text):\n",
    "    '''\n",
    "    alist.sort(key=natural_keys) sorts in human order\n",
    "    http://nedbatchelder.com/blog/200712/human_sorting.html\n",
    "    (See Toothy's implementation in the comments)\n",
    "    '''\n",
    "    return [ atoi(c) for c in re.split(r'(\\d+)', text) ]\n",
    "\n",
    "\n",
    "def load_images(path):\n",
    "    paths = glob.glob(f\"{path}*.png\")\n",
    "    paths.sort(key=natural_keys)\n",
    "    return [imageio.imread(image_file) for image_file in paths]\n",
    "    \n",
    "train_images = load_images(f\"{processed_data_path}/images/train/\")\n",
    "test_images = load_images(f\"{processed_data_path}/images/test/\")\n",
    "validation_images = load_images(f\"{processed_data_path}/images/validate/\")"
   ]
  },
  {
   "cell_type": "code",
   "execution_count": 12,
   "metadata": {},
   "outputs": [],
   "source": [
    "import numpy as np\n",
    "\n",
    "def crop_image(image, min_size=(16,16)):\n",
    "    ''' \n",
    "    Tightly crop image by removing whitespace at edges\n",
    "    '''\n",
    "    # Max values if pixels are all white (croppable space)\n",
    "    max_sum_y = image.shape[0] * 255\n",
    "    max_sum_x = image.shape[1] * 255\n",
    "\n",
    "    # Compute a mask: 1 if we want to keep, 0 to discard\n",
    "    imsum_x_equal_to_max = np.not_equal(np.sum(image,0), max_sum_y).astype(int)\n",
    "    imsum_y_equal_to_max = np.not_equal(np.sum(image,1), max_sum_x).astype(int)\n",
    "    \n",
    "    # This will compute the index for non-zero entries\n",
    "    # eg. [0,0,1,2,3,4,0,0]\n",
    "    x_indices = np.multiply(imsum_x_equal_to_max.T,np.arange(image.shape[1]))\n",
    "    y_indices = np.multiply(imsum_y_equal_to_max.T,np.arange(image.shape[0]))\n",
    "\n",
    "    # Remove 0 elements\n",
    "    x_indices = x_indices[np.nonzero(x_indices)]\n",
    "    y_indices = y_indices[np.nonzero(y_indices)]\n",
    "    if len(x_indices) == 0 or len(y_indices) == 0:\n",
    "        return image\n",
    "    \n",
    "    # Select rows, cols in range\n",
    "    return image[np.min(y_indices):np.max(y_indices),np.min(x_indices):np.max(x_indices)]\n",
    "\n",
    "def display_img(image):\n",
    "    import matplotlib.pyplot as plt    \n",
    "    img_tensor = tf.image.convert_image_dtype(image, dtype=tf.float32)\n",
    "    img_tensor = tf.expand_dims(img_tensor, -1)\n",
    "    color_img = tf.image.grayscale_to_rgb(img_tensor)\n",
    "    plt.figure(figsize=(10,5))\n",
    "    plt.imshow(color_img)\n",
    "    plt.axis('off')\n",
    "    plt.show()\n"
   ]
  },
  {
   "cell_type": "code",
   "execution_count": 19,
   "metadata": {},
   "outputs": [],
   "source": [
    "import math\n",
    "import tensorflow as tf\n",
    "import cv2\n",
    "import numpy as np\n",
    "\n",
    "\n",
    "def find_bounding_size(images):\n",
    "    max_height = 0\n",
    "    max_width = 0\n",
    "    index = 0\n",
    "    \n",
    "    for image in images:\n",
    "        index += 1\n",
    "        \n",
    "        width = image.shape[0]\n",
    "        height = image.shape[1]\n",
    "        \n",
    "        if width > max_width:\n",
    "            max_width = width\n",
    "        \n",
    "        if height > max_height:\n",
    "            max_height = height\n",
    "    \n",
    "    \n",
    "    return max_width, max_height\n",
    "\n",
    "def pad_img(image, size, pad_with=1.0):\n",
    "    # Make sure we're evenly divisible so we can pad equally on both sides\n",
    "    add_rows = size[0] - image.shape[0]\n",
    "    add_cols = size[1] - image.shape[1]\n",
    "    assert add_rows >= 0, f\"Attempt to crop (add_rows = {add_rows})\"\n",
    "    assert add_cols >= 0, f\"Attempt to crop (add_cols = {add_cols})\"\n",
    "    start_row = int(math.floor(add_rows) / 2)\n",
    "    start_col = int(math.floor(add_cols) / 2)\n",
    "    \n",
    "    # Perform padding\n",
    "    m = np.ones(size) * pad_with\n",
    "    m[\n",
    "        start_row : image.shape[0] + start_row,\n",
    "        start_col : image.shape[1] + start_col\n",
    "    ] = image\n",
    "    return m\n",
    "\n",
    "def resize_img(image, size, pad_width=1.0):\n",
    "    im_height = image.shape[0]\n",
    "    im_width = image.shape[1]\n",
    "    height = size[0]\n",
    "    width = size[1]\n",
    "    if im_height == height and im_width == width:\n",
    "        return image\n",
    "    \n",
    "    rows_before = int((height - im_height)/2)\n",
    "    cols_before = int((width - im_width)/2)\n",
    "    \n",
    "    return cv2.copyMakeBorder(image.numpy(), rows_before, rows_before, cols_before, cols_before, cv2.BORDER_CONSTANT, value=[255,255,255])\n",
    "\n",
    "def post_process_image(image, size):\n",
    "    img_tensor = tf.convert_to_tensor(image)\n",
    "    img_tensor = tf.image.rgb_to_grayscale(image)  \n",
    "    img_tensor = tf.image.convert_image_dtype(img_tensor, dtype=tf.uint8)\n",
    "    im = resize_img(img_tensor, size)\n",
    "    return im \n",
    "\n",
    "max_train_size = find_bounding_size(train_images)\n",
    "max_test_size = find_bounding_size(test_images)\n",
    "max_validate_size = find_bounding_size(validation_images)\n",
    "\n",
    "train_images = [post_process_image(image, max_train_size) for image in train_images]\n",
    "test_images = [post_process_image(image, max_test_size) for image in test_images]\n",
    "validation_images = [post_process_image(image, max_validate_size) for image in validation_images]"
   ]
  },
  {
   "cell_type": "code",
   "execution_count": 20,
   "metadata": {},
   "outputs": [
    {
     "data": {
      "text/plain": [
       "(200, 500)"
      ]
     },
     "execution_count": 20,
     "metadata": {},
     "output_type": "execute_result"
    }
   ],
   "source": [
    "max_train_size"
   ]
  },
  {
   "cell_type": "markdown",
   "metadata": {},
   "source": [
    "Plot a sample image to check the results of our post-processing operations:"
   ]
  },
  {
   "cell_type": "code",
   "execution_count": 26,
   "metadata": {},
   "outputs": [
    {
     "data": {
      "text/plain": [
       "<matplotlib.image.AxesImage at 0x175d79290>"
      ]
     },
     "execution_count": 26,
     "metadata": {},
     "output_type": "execute_result"
    },
    {
     "data": {
      "image/png": "[encoded data removed]",
      "text/plain": [
       "<Figure size 720x720 with 1 Axes>"
      ]
     },
     "metadata": {
      "needs_background": "light"
     },
     "output_type": "display_data"
    }
   ],
   "source": [
    "import matplotlib.pyplot as plt\n",
    "plt.figure(figsize=(10,10))\n",
    "plt.imshow(train_images[0], vmax=255, cmap='gray')"
   ]
  },
  {
   "cell_type": "code",
   "execution_count": 27,
   "metadata": {},
   "outputs": [
    {
     "name": "stdout",
     "output_type": "stream",
     "text": [
      "Padded 76303 to (200, 500).\n",
      "Padded 9442 to (160, 500).\n",
      "Padded 8474 to (160, 500).\n"
     ]
    }
   ],
   "source": [
    "print(f\"Padded {len(train_images)} to {train_images[0].shape}.\")\n",
    "print(f\"Padded {len(test_images)} to {test_images[0].shape}.\")\n",
    "print(f\"Padded {len(validation_images)} to {validation_images[0].shape}.\")"
   ]
  },
  {
   "cell_type": "markdown",
   "metadata": {},
   "source": [
    "Now pickle the results for easy retrieval:"
   ]
  },
  {
   "cell_type": "code",
   "execution_count": 28,
   "metadata": {},
   "outputs": [],
   "source": [
    "import pickle \n",
    "\n",
    "with open(f\"{pickle_data_path}train_labels.pickle\", 'wb') as handle:\n",
    "    pickle.dump(train_labels, handle, protocol=pickle.HIGHEST_PROTOCOL)\n",
    "    \n",
    "with open(f\"{pickle_data_path}validation_labels.pickle\", 'wb') as handle:\n",
    "    pickle.dump(validation_labels, handle, protocol=pickle.HIGHEST_PROTOCOL)\n",
    "        \n",
    "with open(f\"{pickle_data_path}test_labels.pickle\", 'wb') as handle:\n",
    "    pickle.dump(test_labels, handle, protocol=pickle.HIGHEST_PROTOCOL)   "
   ]
  }
 ],
 "metadata": {
  "kernelspec": {
   "display_name": "Python 3",
   "language": "python",
   "name": "python3"
  },
  "language_info": {
   "codemirror_mode": {
    "name": "ipython",
    "version": 3
   },
   "file_extension": ".py",
   "mimetype": "text/x-python",
   "name": "python",
   "nbconvert_exporter": "python",
   "pygments_lexer": "ipython3",
   "version": "3.7.4"
  }
 },
 "nbformat": 4,
 "nbformat_minor": 2
}
